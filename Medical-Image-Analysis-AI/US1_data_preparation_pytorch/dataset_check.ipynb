{
 "cells": [
  {
   "cell_type": "markdown",
   "id": "428533cc",
   "metadata": {},
   "source": [
    "# Dataset Check (PyTorch)\n",
    "\n",
    "This notebook replaces dataset_check.py. Use it to validate dataset structure and samples."
   ]
  },
  {
   "cell_type": "code",
   "execution_count": 4,
   "id": "60f12dd1",
   "metadata": {},
   "outputs": [],
   "source": [
    "import numpy as np\n",
    "import matplotlib.pyplot as plt\n",
    "import seaborn as sns\n",
    "import os\n",
    "import torch\n",
    "from pathlib import Path\n",
    "import cv2\n",
    "from collections import Counter\n",
    "import pandas as pd\n"
   ]
  },
  {
   "cell_type": "code",
   "execution_count": 5,
   "id": "9ee651c3",
   "metadata": {},
   "outputs": [],
   "source": [
    "data_dir = \"C:/Users/ycode/Desktop/Blood_Cells_Cancer/Blood cell Cancer [ALL]\"\n",
    "\n",
    "images = []\n",
    "labels = []\n",
    "\n",
    "for folder in os.listdir(data_dir):\n",
    "    folder_path = os.path.join(data_dir, folder)\n",
    "    if os.path.isdir(folder_path):\n",
    "        for filename in os.listdir(folder_path):\n",
    "            file_path = os.path.join(folder_path, filename)\n",
    "\n",
    "            if '.' not in filename:\n",
    "                continue\n",
    "            ext = filename.split('.')[-1]\n",
    "            if ext not in ['png', 'jpg', 'jpeg', 'bmp']:\n",
    "                continue  \n",
    "            try:\n",
    "                img = cv2.imread(file_path)\n",
    "                if img is not None:\n",
    "               \n",
    "                    images.append(img)\n",
    "                    labels.append(folder)\n",
    "                else:\n",
    "                    print(f\"Warning: Unable to read image {file_path}\")\n",
    "            except Exception as e:\n",
    "                print(f\"Error reading {file_path}: {e}\")\n",
    "        "
   ]
  },
  {
   "cell_type": "code",
   "execution_count": null,
   "id": "55636e79",
   "metadata": {},
   "outputs": [],
   "source": [
    "images = np.array(images, dtype=object)\n",
    "labels = np.array(labels)\n",
    "\n",
    "np.savez(\n",
    "    'C:/Users/ycode/Desktop/Diagnostic-multimodal-par-IA-via-Transfer-Learning/Medical-Image-Analysis-AI/variables/data_set.npz',\n",
    "    images=images,\n",
    "    labels=labels,\n",
    "    data_dir=data_dir\n",
    "    \n",
    ") \n"
   ]
  },
  {
   "cell_type": "code",
   "execution_count": null,
   "id": "dc38f120",
   "metadata": {},
   "outputs": [],
   "source": []
  }
 ],
 "metadata": {
  "kernelspec": {
   "display_name": "Python 3",
   "language": "python",
   "name": "python3"
  },
  "language_info": {
   "codemirror_mode": {
    "name": "ipython",
    "version": 3
   },
   "file_extension": ".py",
   "mimetype": "text/x-python",
   "name": "python",
   "nbconvert_exporter": "python",
   "pygments_lexer": "ipython3",
   "version": "3.13.7"
  }
 },
 "nbformat": 4,
 "nbformat_minor": 5
}
