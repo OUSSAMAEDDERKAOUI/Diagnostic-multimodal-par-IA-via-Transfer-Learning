{
 "cells": [
  {
   "cell_type": "markdown",
   "id": "b34617c9",
   "metadata": {},
   "source": [
    "# Data Preprocessing (PyTorch)\n",
    "\n",
    "This notebook replaces the original data_preprocessing.py. Add your preprocessing code here."
   ]
  },
  {
   "cell_type": "code",
   "execution_count": null,
   "id": "518b4c06",
   "metadata": {},
   "outputs": [],
   "source": [
    "# Placeholder: preprocessing functions\n",
    "def preprocess_sample(sample):\n",
    "    # TODO: implement preprocessing\n",
    "    return sample\n",
    "\n",
    "print('data_preprocessing notebook created')"
   ]
  }
 ],
 "metadata": {
  "language_info": {
   "name": "python"
  }
 },
 "nbformat": 4,
 "nbformat_minor": 5
}
