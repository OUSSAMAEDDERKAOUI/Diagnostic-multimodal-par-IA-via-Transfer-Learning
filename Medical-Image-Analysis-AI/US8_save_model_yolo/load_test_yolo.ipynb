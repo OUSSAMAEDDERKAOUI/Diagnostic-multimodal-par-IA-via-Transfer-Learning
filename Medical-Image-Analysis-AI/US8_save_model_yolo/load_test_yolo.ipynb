{
 "cells": [
  {
   "cell_type": "markdown",
   "id": "9f708458",
   "metadata": {},
   "source": [
    "# Load & Test YOLO\n",
    "\n",
    "Notebook to load YOLO weights and run a sample inference."
   ]
  }
 ],
 "metadata": {
  "language_info": {
   "name": "python"
  }
 },
 "nbformat": 4,
 "nbformat_minor": 5
}
