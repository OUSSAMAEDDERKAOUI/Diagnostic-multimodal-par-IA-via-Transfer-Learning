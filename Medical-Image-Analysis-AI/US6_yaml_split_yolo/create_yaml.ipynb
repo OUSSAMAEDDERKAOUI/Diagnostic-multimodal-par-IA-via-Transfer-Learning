{
 "cells": [
  {
   "cell_type": "markdown",
   "id": "a9696225",
   "metadata": {},
   "source": [
    "# Create YAML (YOLO)\n",
    "\n",
    "Replaces create_yaml.py. Generate dataset YAML for YOLO training."
   ]
  }
 ],
 "metadata": {
  "language_info": {
   "name": "python"
  }
 },
 "nbformat": 4,
 "nbformat_minor": 5
}
