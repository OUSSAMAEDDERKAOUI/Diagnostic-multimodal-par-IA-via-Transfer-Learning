{
 "cells": [
  {
   "cell_type": "markdown",
   "id": "56828b03",
   "metadata": {},
   "source": [
    "# Split Dataset (YOLO)\n",
    "\n",
    "Replaces split_dataset.py. Train/val/test split utilities."
   ]
  }
 ],
 "metadata": {
  "language_info": {
   "name": "python"
  }
 },
 "nbformat": 4,
 "nbformat_minor": 5
}
