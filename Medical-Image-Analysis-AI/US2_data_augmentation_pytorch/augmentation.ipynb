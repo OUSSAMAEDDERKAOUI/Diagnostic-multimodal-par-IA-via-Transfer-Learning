{
 "cells": [
  {
   "cell_type": "markdown",
   "id": "a70678d1",
   "metadata": {},
   "source": [
    "# Augmentation (PyTorch)\n",
    "\n",
    "This notebook replaces augmentation.py. Add augmentation transforms here."
   ]
  },
  {
   "cell_type": "code",
   "execution_count": 2,
   "id": "1bac4d91",
   "metadata": {},
   "outputs": [],
   "source": [
    "import numpy as np\n",
    "import matplotlib.pyplot as plt\n",
    "import seaborn as sns\n",
    "import os\n",
    "import torch\n",
    "from pathlib import Path\n",
    "import cv2\n",
    "from collections import Counter\n",
    "import pandas as pd\n",
    "import random\n"
   ]
  },
  {
   "cell_type": "code",
   "execution_count": 5,
   "id": "78466c6f",
   "metadata": {},
   "outputs": [],
   "source": [
    "dirs = np.load(\n",
    "    'C:/Users/ycode/Desktop/Diagnostic-multimodal-par-IA-via-Transfer-Learning/Medical-Image-Analysis-AI/variables/split_dirs.npz',\n",
    "    allow_pickle=True\n",
    ")"
   ]
  },
  {
   "cell_type": "code",
   "execution_count": 7,
   "id": "e011fb56",
   "metadata": {},
   "outputs": [
    {
     "name": "stdout",
     "output_type": "stream",
     "text": [
      "🔄 Augmentation pour la classe: Benign (358 images)\n"
     ]
    },
    {
     "name": "stderr",
     "output_type": "stream",
     "text": [
      "Processing Benign: 100%|██████████| 358/358 [00:30<00:00, 11.71it/s]\n"
     ]
    },
    {
     "name": "stdout",
     "output_type": "stream",
     "text": [
      "🔄 Augmentation pour la classe: early Pre-B (685 images)\n"
     ]
    },
    {
     "name": "stderr",
     "output_type": "stream",
     "text": [
      "Processing early Pre-B: 100%|██████████| 685/685 [00:53<00:00, 12.87it/s]\n"
     ]
    },
    {
     "name": "stdout",
     "output_type": "stream",
     "text": [
      "🔄 Augmentation pour la classe: Pre-B (668 images)\n"
     ]
    },
    {
     "name": "stderr",
     "output_type": "stream",
     "text": [
      "Processing Pre-B: 100%|██████████| 668/668 [00:48<00:00, 13.83it/s]\n"
     ]
    },
    {
     "name": "stdout",
     "output_type": "stream",
     "text": [
      "🔄 Augmentation pour la classe: Pro-B (557 images)\n"
     ]
    },
    {
     "name": "stderr",
     "output_type": "stream",
     "text": [
      "Processing Pro-B: 100%|██████████| 557/557 [00:39<00:00, 14.08it/s]"
     ]
    },
    {
     "name": "stdout",
     "output_type": "stream",
     "text": [
      "\n",
      "✅ Augmentation terminée avec succès ! Les images sont enregistrées dans :\n",
      "C:\\Users\\ycode\\Desktop\\Diagnostic-multimodal-par-IA-via-Transfer-Learning\\Medical-Image-Analysis-AI\\data\\part_one_data\\train\\augmented\n"
     ]
    },
    {
     "name": "stderr",
     "output_type": "stream",
     "text": [
      "\n"
     ]
    }
   ],
   "source": [
    "import cv2\n",
    "import os\n",
    "import numpy as np\n",
    "from pathlib import Path\n",
    "from tqdm import tqdm\n",
    "import random\n",
    "\n",
    "# Dossier d'entraînement\n",
    "train_dir = Path(\"C:/Users/ycode/Desktop/Diagnostic-multimodal-par-IA-via-Transfer-Learning/Medical-Image-Analysis-AI/data/part_one_data/train\")\n",
    "\n",
    "# Créer un dossier pour les images augmentées\n",
    "augmented_dir = train_dir / \"augmented\"\n",
    "augmented_dir.mkdir(exist_ok=True)\n",
    "\n",
    "def add_noise(img):\n",
    "    \"\"\"Ajoute du bruit gaussien\"\"\"\n",
    "    noise = np.random.normal(0, 25, img.shape).astype(np.uint8)\n",
    "    return cv2.add(img, noise)\n",
    "\n",
    "def blur_image(img):\n",
    "    \"\"\"Applique un flou gaussien\"\"\"\n",
    "    return cv2.GaussianBlur(img, (5, 5), 0)\n",
    "\n",
    "def flip_image(img):\n",
    "    \"\"\"Retourne l'image horizontalement\"\"\"\n",
    "    return cv2.flip(img, 1)\n",
    "\n",
    "# Parcourir chaque classe dans le dossier train\n",
    "for class_name in os.listdir(train_dir):\n",
    "    class_path = train_dir / class_name\n",
    "    if not class_path.is_dir() or class_name == \"augmented\":\n",
    "        continue\n",
    "\n",
    "    # Créer un sous-dossier pour chaque classe augmentée\n",
    "    output_class_dir = augmented_dir / class_name\n",
    "    output_class_dir.mkdir(parents=True, exist_ok=True)\n",
    "\n",
    "    images = [f for f in os.listdir(class_path) if f.lower().endswith(('.png', '.jpg', '.jpeg', '.bmp'))]\n",
    "\n",
    "    print(f\"🔄 Augmentation pour la classe: {class_name} ({len(images)} images)\")\n",
    "    \n",
    "    for filename in tqdm(images, desc=f\"Processing {class_name}\"):\n",
    "        img_path = class_path / filename\n",
    "        img = cv2.imread(str(img_path))\n",
    "\n",
    "        if img is None:\n",
    "            continue\n",
    "\n",
    "        # Appliquer les transformations\n",
    "        img_blur = blur_image(img)\n",
    "        img_noise = add_noise(img)\n",
    "        img_flip = flip_image(img)\n",
    "\n",
    "        # Sauvegarder les nouvelles images\n",
    "        base_name = filename.split('.')[0]\n",
    "        cv2.imwrite(str(output_class_dir / f\"{base_name}_blur.jpg\"), img_blur)\n",
    "        cv2.imwrite(str(output_class_dir / f\"{base_name}_noise.jpg\"), img_noise)\n",
    "        cv2.imwrite(str(output_class_dir / f\"{base_name}_flip.jpg\"), img_flip)\n",
    "\n",
    "print(\"\\n✅ Augmentation terminée avec succès ! Les images sont enregistrées dans :\")\n",
    "print(augmented_dir)\n"
   ]
  }
 ],
 "metadata": {
  "kernelspec": {
   "display_name": "Python 3",
   "language": "python",
   "name": "python3"
  },
  "language_info": {
   "codemirror_mode": {
    "name": "ipython",
    "version": 3
   },
   "file_extension": ".py",
   "mimetype": "text/x-python",
   "name": "python",
   "nbconvert_exporter": "python",
   "pygments_lexer": "ipython3",
   "version": "3.13.7"
  }
 },
 "nbformat": 4,
 "nbformat_minor": 5
}
