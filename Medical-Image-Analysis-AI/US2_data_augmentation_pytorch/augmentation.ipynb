{
 "cells": [
  {
   "cell_type": "markdown",
   "id": "a70678d1",
   "metadata": {},
   "source": [
    "# Augmentation (PyTorch)\n",
    "\n",
    "This notebook replaces augmentation.py. Add augmentation transforms here."
   ]
  },
  {
   "cell_type": "code",
   "execution_count": 1,
   "id": "1bac4d91",
   "metadata": {},
   "outputs": [],
   "source": [
    "import numpy as np\n",
    "import matplotlib.pyplot as plt\n",
    "import seaborn as sns\n",
    "import os\n",
    "import torch\n",
    "from pathlib import Path\n",
    "import cv2\n",
    "from collections import Counter\n",
    "import pandas as pd\n",
    "import random\n",
    "import torch\n",
    "from torchvision import datasets, transforms\n",
    "from torch.utils.data import DataLoader\n",
    "from tqdm import tqdm\n"
   ]
  },
  {
   "cell_type": "code",
   "execution_count": 2,
   "id": "78466c6f",
   "metadata": {},
   "outputs": [
    {
     "data": {
      "text/plain": [
       "NpzFile 'C:/Users/ycode/Desktop/Diagnostic-multimodal-par-IA-via-Transfer-Learning/Medical-Image-Analysis-AI/variables/split_dirs.npz' with keys: train_dir, val_dir, test_dir"
      ]
     },
     "execution_count": 2,
     "metadata": {},
     "output_type": "execute_result"
    }
   ],
   "source": [
    "dirs = np.load(\n",
    "    'C:/Users/ycode/Desktop/Diagnostic-multimodal-par-IA-via-Transfer-Learning/Medical-Image-Analysis-AI/variables/split_dirs.npz',\n",
    "    allow_pickle=True\n",
    ")\n",
    "dirs"
   ]
  },
  {
   "cell_type": "code",
   "execution_count": 3,
   "id": "d7ece022",
   "metadata": {},
   "outputs": [
    {
     "name": "stdout",
     "output_type": "stream",
     "text": [
      "Benign : 685\n",
      "early Pre-B : 685\n",
      "Pre-B : 685\n",
      "Pro-B : 685\n",
      "685\n"
     ]
    }
   ],
   "source": [
    "train_path = \"../data/part_one_data/train\"\n",
    "target_count = 0\n",
    "for cls in os.listdir(train_path):\n",
    "    path = os.path.join(train_path, cls)\n",
    "    if os.path.isdir(path):\n",
    "        count = len(os.listdir(path))\n",
    "        print(f\"{cls} : {count}\")\n",
    "    if count > target_count:\n",
    "        target_count = count\n",
    "print(target_count)"
   ]
  },
  {
   "cell_type": "code",
   "execution_count": 4,
   "id": "39a21e07",
   "metadata": {},
   "outputs": [],
   "source": [
    "import torch\n",
    "from torch.utils.data import DataLoader\n",
    "from torchvision import datasets, transforms \n",
    "from PIL import Image\n",
    "\n",
    "\n",
    "\n",
    "\n",
    "augmentations = [\n",
    "    transforms.RandomHorizontalFlip(p=1.0),\n",
    "    transforms.ColorJitter(brightness=0.2),\n",
    "    transforms.GaussianBlur(kernel_size=(3, 3), sigma=(0.1, 2.0))\n",
    "]\n",
    "\n",
    "to_pil = transforms.ToPILImage()\n",
    "\n",
    "for class_name in os.listdir(train_path):\n",
    "    class_dir = os.path.join(train_path, class_name)\n",
    "    images = os.listdir(class_dir)\n",
    "\n",
    "    while len(os.listdir(class_dir)) < target_count:\n",
    "        img_name = random.choice(images)\n",
    "        img_path = os.path.join(class_dir, img_name)\n",
    "\n",
    "        with Image.open(img_path).convert(\"RGB\") as img:\n",
    "            aug_img = random.choice(augmentations)(img)\n",
    "            new_name = f\"aug{len(os.listdir(class_dir))}{img_name}\"\n",
    "            aug_img.save(os.path.join(class_dir, new_name))\n",
    "\n",
    "\n",
    "\n"
   ]
  }
 ],
 "metadata": {
  "kernelspec": {
   "display_name": "Python 3",
   "language": "python",
   "name": "python3"
  },
  "language_info": {
   "codemirror_mode": {
    "name": "ipython",
    "version": 3
   },
   "file_extension": ".py",
   "mimetype": "text/x-python",
   "name": "python",
   "nbconvert_exporter": "python",
   "pygments_lexer": "ipython3",
   "version": "3.13.7"
  }
 },
 "nbformat": 4,
 "nbformat_minor": 5
}
