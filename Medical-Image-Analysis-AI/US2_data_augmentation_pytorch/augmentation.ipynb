{
 "cells": [
  {
   "cell_type": "markdown",
   "id": "a70678d1",
   "metadata": {},
   "source": [
    "# Augmentation (PyTorch)\n",
    "\n",
    "This notebook replaces augmentation.py. Add augmentation transforms here."
   ]
  },
  {
   "cell_type": "code",
   "execution_count": null,
   "id": "037d9b65",
   "metadata": {},
   "outputs": [],
   "source": [
    "# Placeholder augmentation example\n",
    "from torchvision import transforms\n",
    "transform = transforms.Compose([transforms.Resize((224,224))])\n",
    "print('augmentation notebook created')"
   ]
  }
 ],
 "metadata": {
  "language_info": {
   "name": "python"
  }
 },
 "nbformat": 4,
 "nbformat_minor": 5
}
