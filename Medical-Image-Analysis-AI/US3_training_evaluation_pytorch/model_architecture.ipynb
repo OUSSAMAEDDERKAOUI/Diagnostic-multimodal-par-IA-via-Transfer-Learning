{
 "cells": [
  {
   "cell_type": "markdown",
   "id": "c40a6782",
   "metadata": {},
   "source": [
    "# Model Architecture (PyTorch)\n",
    "\n",
    "Replace model_architecture.py with this notebook defining the network."
   ]
  },
  {
   "cell_type": "code",
   "execution_count": null,
   "id": "05e8a946",
   "metadata": {},
   "outputs": [],
   "source": [
    "# Example model\n",
    "import torch.nn as nn\n",
    "\n",
    "class SimpleNet(nn.Module):\n",
    "    def __init__(self):\n",
    "        super().__init__()\n",
    "        self.fc = nn.Linear(10,2)\n",
    "    def forward(self, x):\n",
    "        return self.fc(x)\n",
    "\n",
    "print('model_architecture notebook created')"
   ]
  }
 ],
 "metadata": {
  "language_info": {
   "name": "python"
  }
 },
 "nbformat": 4,
 "nbformat_minor": 5
}
