{
 "cells": [
  {
   "cell_type": "markdown",
   "id": "9624742d",
   "metadata": {},
   "source": [
    "## Step 4 — Prepare Pretrained GoogLeNet Model\n",
    "\n",
    "In this step, we:\n",
    "1. Load the pretrained GoogLeNet model from `torchvision.models`\n",
    "2. Replace its fully connected (FC) layer with a custom classifier\n",
    "   suitable for the number of blood cancer cell classes in our dataset\n",
    "\n",
    "> Note: At this stage, we are **preparing the model**, not yet training or fine-tuning.\n"
   ]
  },
  {
   "cell_type": "code",
   "execution_count": 1,
   "id": "234e31b4",
   "metadata": {},
   "outputs": [
    {
     "name": "stdout",
     "output_type": "stream",
     "text": [
      "Using device: cuda\n",
      "Training samples: 2740 | Validation samples: 484\n",
      "Classes: ['Benign', 'Pre-B', 'Pro-B', 'early Pre-B']\n"
     ]
    },
    {
     "name": "stderr",
     "output_type": "stream",
     "text": [
      "c:\\Users\\ycode\\AppData\\Local\\Programs\\Python\\Python313\\Lib\\site-packages\\torchvision\\models\\_utils.py:208: UserWarning: The parameter 'pretrained' is deprecated since 0.13 and may be removed in the future, please use 'weights' instead.\n",
      "  warnings.warn(\n",
      "c:\\Users\\ycode\\AppData\\Local\\Programs\\Python\\Python313\\Lib\\site-packages\\torchvision\\models\\_utils.py:223: UserWarning: Arguments other than a weight enum or `None` for 'weights' are deprecated since 0.13 and may be removed in the future. The current behavior is equivalent to passing `weights=None`.\n",
      "  warnings.warn(msg)\n",
      "c:\\Users\\ycode\\AppData\\Local\\Programs\\Python\\Python313\\Lib\\site-packages\\torchvision\\models\\googlenet.py:47: FutureWarning: The default weight initialization of GoogleNet will be changed in future releases of torchvision. If you wish to keep the old behavior (which leads to long initialization times due to scipy/scipy#11299), please set init_weights=True.\n",
      "  warnings.warn(\n"
     ]
    }
   ],
   "source": [
    "import torch\n",
    "import torch.nn as nn\n",
    "from torchvision import models, transforms, datasets\n",
    "from torch.utils.data import DataLoader\n",
    "\n",
    "# === Paths ===\n",
    "train_dir = \"../data/part_one_data/train\"\n",
    "val_dir = \"../data/part_one_data/val\"\n",
    "\n",
    "# === Device setup ===\n",
    "device = torch.device(\"cuda\" if torch.cuda.is_available() else \"cpu\")\n",
    "print(f\"Using device: {device}\")\n",
    "\n",
    "# === Load pretrained googlenet ===\n",
    "model = models.googlenet(pretrained=False, aux_logits=False)\n",
    "\n",
    "\n",
    "# === Freeze early layers (optional) ===\n",
    "for param in model.parameters():\n",
    "    param.requires_grad = False\n",
    "\n",
    "# === Replace final fully connected layer ===\n",
    "model.fc = nn.Sequential(\n",
    "    nn.Linear(1024, 512),   # première couche fully connected\n",
    "    nn.ReLU(),              # fonction d’activation\n",
    "    nn.Dropout(0.20),        # éviter le sur-apprentissage\n",
    "    nn.Linear(512, 256),  # sortie = nb de classes \n",
    "    nn.ReLU(),\n",
    "    nn.Dropout(0.10),  \n",
    "    nn.Linear(256, 128),\n",
    "    nn.ReLU(),\n",
    "    nn.Dropout(0.10),  \n",
    "    nn.Linear(128, 4)\n",
    "    \n",
    ")\n",
    "model = model.to(device)\n",
    "\n",
    "# === Define image transformations ===\n",
    "transform = transforms.Compose([\n",
    "    transforms.Resize((224, 224)),\n",
    "    transforms.ToTensor(),\n",
    "    transforms.Normalize([0.485, 0.456, 0.406],\n",
    "                         [0.229, 0.224, 0.225])\n",
    "])\n",
    "\n",
    "# === Load datasets ===\n",
    "train_dataset = datasets.ImageFolder(train_dir, transform=transform)\n",
    "val_dataset = datasets.ImageFolder(val_dir, transform=transform)\n",
    "\n",
    "train_loader = DataLoader(train_dataset, batch_size=32, shuffle=True)\n",
    "val_loader = DataLoader(val_dataset, batch_size=32, shuffle=False)\n",
    "\n",
    "print(f\"Training samples: {len(train_dataset)} | Validation samples: {len(val_dataset)}\")\n",
    "print(f\"Classes: {train_dataset.classes}\")\n"
   ]
  },
  {
   "cell_type": "markdown",
   "id": "be4a2d4f",
   "metadata": {},
   "source": [
    "##  Step 5 — Define Optimizer, Loss Function & Training Loop\n",
    "\n",
    "In this step, we will:\n",
    "\n",
    "1. Define the **loss function** suitable for multi-class classification (`CrossEntropyLoss`)  \n",
    "2. Choose an **optimizer** (Adam or SGD) and learning rate  \n",
    "3. Implement a **training loop** to train the model on the training set and evaluate on the validation set  \n",
    "\n",
    "> Note: The model architecture is already prepared (GoogLeNet with custom FC layer).\n"
   ]
  },
  {
   "cell_type": "code",
   "execution_count": 2,
   "id": "d4733d2b",
   "metadata": {},
   "outputs": [
    {
     "name": "stderr",
     "output_type": "stream",
     "text": [
      "Epoch [1/25] Training: 100%|██████████| 86/86 [00:36<00:00,  2.37it/s]\n"
     ]
    },
    {
     "name": "stdout",
     "output_type": "stream",
     "text": [
      "Epoch [1/25] Train Loss: 1.0610 | Val Loss: 1.2033 | Val Acc: 67.98%\n",
      "Best model updated at epoch 1\n"
     ]
    },
    {
     "name": "stderr",
     "output_type": "stream",
     "text": [
      "Epoch [2/25] Training: 100%|██████████| 86/86 [00:36<00:00,  2.35it/s]\n"
     ]
    },
    {
     "name": "stdout",
     "output_type": "stream",
     "text": [
      "Epoch [2/25] Train Loss: 0.1620 | Val Loss: 3.4242 | Val Acc: 36.98%\n"
     ]
    },
    {
     "name": "stderr",
     "output_type": "stream",
     "text": [
      "Epoch [3/25] Training: 100%|██████████| 86/86 [00:36<00:00,  2.37it/s]\n"
     ]
    },
    {
     "name": "stdout",
     "output_type": "stream",
     "text": [
      "Epoch [3/25] Train Loss: 0.1436 | Val Loss: 0.4561 | Val Acc: 77.89%\n",
      "Best model updated at epoch 3\n"
     ]
    },
    {
     "name": "stderr",
     "output_type": "stream",
     "text": [
      "Epoch [4/25] Training: 100%|██████████| 86/86 [00:37<00:00,  2.32it/s]\n"
     ]
    },
    {
     "name": "stdout",
     "output_type": "stream",
     "text": [
      "Epoch [4/25] Train Loss: 0.1197 | Val Loss: 0.3504 | Val Acc: 86.16%\n",
      "Best model updated at epoch 4\n"
     ]
    },
    {
     "name": "stderr",
     "output_type": "stream",
     "text": [
      "Epoch [5/25] Training: 100%|██████████| 86/86 [00:37<00:00,  2.31it/s]\n"
     ]
    },
    {
     "name": "stdout",
     "output_type": "stream",
     "text": [
      "Epoch [5/25] Train Loss: 0.0873 | Val Loss: 1.2379 | Val Acc: 75.83%\n"
     ]
    },
    {
     "name": "stderr",
     "output_type": "stream",
     "text": [
      "Epoch [6/25] Training: 100%|██████████| 86/86 [00:36<00:00,  2.35it/s]\n"
     ]
    },
    {
     "name": "stdout",
     "output_type": "stream",
     "text": [
      "Epoch [6/25] Train Loss: 0.0745 | Val Loss: 0.0631 | Val Acc: 97.73%\n",
      "Best model updated at epoch 6\n"
     ]
    },
    {
     "name": "stderr",
     "output_type": "stream",
     "text": [
      "Epoch [7/25] Training: 100%|██████████| 86/86 [00:37<00:00,  2.29it/s]\n"
     ]
    },
    {
     "name": "stdout",
     "output_type": "stream",
     "text": [
      "Epoch [7/25] Train Loss: 0.0743 | Val Loss: 1.2936 | Val Acc: 71.90%\n"
     ]
    },
    {
     "name": "stderr",
     "output_type": "stream",
     "text": [
      "Epoch [8/25] Training: 100%|██████████| 86/86 [00:37<00:00,  2.30it/s]\n"
     ]
    },
    {
     "name": "stdout",
     "output_type": "stream",
     "text": [
      "Epoch [8/25] Train Loss: 0.0508 | Val Loss: 0.0919 | Val Acc: 97.73%\n"
     ]
    },
    {
     "name": "stderr",
     "output_type": "stream",
     "text": [
      "Epoch [9/25] Training: 100%|██████████| 86/86 [00:36<00:00,  2.35it/s]\n"
     ]
    },
    {
     "name": "stdout",
     "output_type": "stream",
     "text": [
      "Epoch [9/25] Train Loss: 0.0853 | Val Loss: 0.2057 | Val Acc: 92.98%\n"
     ]
    },
    {
     "name": "stderr",
     "output_type": "stream",
     "text": [
      "Epoch [10/25] Training: 100%|██████████| 86/86 [00:36<00:00,  2.34it/s]\n"
     ]
    },
    {
     "name": "stdout",
     "output_type": "stream",
     "text": [
      "Epoch [10/25] Train Loss: 0.0357 | Val Loss: 0.0192 | Val Acc: 99.38%\n",
      "Best model updated at epoch 10\n"
     ]
    },
    {
     "name": "stderr",
     "output_type": "stream",
     "text": [
      "Epoch [11/25] Training: 100%|██████████| 86/86 [00:36<00:00,  2.36it/s]\n"
     ]
    },
    {
     "name": "stdout",
     "output_type": "stream",
     "text": [
      "Epoch [11/25] Train Loss: 0.0425 | Val Loss: 0.2523 | Val Acc: 91.32%\n"
     ]
    },
    {
     "name": "stderr",
     "output_type": "stream",
     "text": [
      "Epoch [12/25] Training: 100%|██████████| 86/86 [00:36<00:00,  2.37it/s]\n"
     ]
    },
    {
     "name": "stdout",
     "output_type": "stream",
     "text": [
      "Epoch [12/25] Train Loss: 0.0310 | Val Loss: 0.0434 | Val Acc: 98.55%\n"
     ]
    },
    {
     "name": "stderr",
     "output_type": "stream",
     "text": [
      "Epoch [13/25] Training: 100%|██████████| 86/86 [00:36<00:00,  2.36it/s]\n"
     ]
    },
    {
     "name": "stdout",
     "output_type": "stream",
     "text": [
      "Epoch [13/25] Train Loss: 0.0216 | Val Loss: 0.0931 | Val Acc: 97.93%\n"
     ]
    },
    {
     "name": "stderr",
     "output_type": "stream",
     "text": [
      "Epoch [14/25] Training: 100%|██████████| 86/86 [00:36<00:00,  2.36it/s]\n"
     ]
    },
    {
     "name": "stdout",
     "output_type": "stream",
     "text": [
      "Epoch [14/25] Train Loss: 0.0321 | Val Loss: 0.0181 | Val Acc: 99.59%\n",
      "Best model updated at epoch 14\n"
     ]
    },
    {
     "name": "stderr",
     "output_type": "stream",
     "text": [
      "Epoch [15/25] Training: 100%|██████████| 86/86 [00:36<00:00,  2.34it/s]\n"
     ]
    },
    {
     "name": "stdout",
     "output_type": "stream",
     "text": [
      "Epoch [15/25] Train Loss: 0.0141 | Val Loss: 0.0134 | Val Acc: 99.38%\n"
     ]
    },
    {
     "name": "stderr",
     "output_type": "stream",
     "text": [
      "Epoch [16/25] Training: 100%|██████████| 86/86 [00:36<00:00,  2.35it/s]\n"
     ]
    },
    {
     "name": "stdout",
     "output_type": "stream",
     "text": [
      "Epoch [16/25] Train Loss: 0.0185 | Val Loss: 0.0300 | Val Acc: 99.38%\n"
     ]
    },
    {
     "name": "stderr",
     "output_type": "stream",
     "text": [
      "Epoch [17/25] Training: 100%|██████████| 86/86 [00:36<00:00,  2.38it/s]\n"
     ]
    },
    {
     "name": "stdout",
     "output_type": "stream",
     "text": [
      "Epoch [17/25] Train Loss: 0.0128 | Val Loss: 0.0183 | Val Acc: 99.59%\n"
     ]
    },
    {
     "name": "stderr",
     "output_type": "stream",
     "text": [
      "Epoch [18/25] Training: 100%|██████████| 86/86 [00:36<00:00,  2.33it/s]\n"
     ]
    },
    {
     "name": "stdout",
     "output_type": "stream",
     "text": [
      "Epoch [18/25] Train Loss: 0.0116 | Val Loss: 0.0136 | Val Acc: 99.59%\n"
     ]
    },
    {
     "name": "stderr",
     "output_type": "stream",
     "text": [
      "Epoch [19/25] Training: 100%|██████████| 86/86 [00:37<00:00,  2.31it/s]\n"
     ]
    },
    {
     "name": "stdout",
     "output_type": "stream",
     "text": [
      "Epoch [19/25] Train Loss: 0.0081 | Val Loss: 0.0120 | Val Acc: 99.38%\n",
      "\n",
      " Early stopping triggered at epoch 19\n",
      "\n",
      "Training complete! Best validation accuracy: 99.59%\n",
      "Best model saved at: ../US3_training_evaluation_pytorch/models/best_model.pth\n"
     ]
    }
   ],
   "source": [
    "import torch\n",
    "import torch.nn as nn\n",
    "import torch.optim as optim\n",
    "from torchvision import models\n",
    "from tqdm import tqdm\n",
    "\n",
    "# Model setup (main change)\n",
    "# Disabled aux heads for cleaner gradients\n",
    "\n",
    "model = models.googlenet(pretrained=False, aux_logits=False)\n",
    "model.fc = nn.Sequential(\n",
    "    nn.Linear(1024, 512),   # première couche fully connected\n",
    "    nn.ReLU(),              # fonction d’activation\n",
    "    nn.Dropout(0.20),        # éviter le sur-apprentissage\n",
    "    nn.Linear(512, 256),  # sortie = nb de classes \n",
    "    nn.ReLU(),\n",
    "    nn.Dropout(0.20),  \n",
    "    nn.Linear(256, 128),\n",
    "    # nn.ReLU(),\n",
    "    # nn.Linear(128, 4)\n",
    ")\n",
    "model = model.to(device)\n",
    "\n",
    "#  Hyperparameters (tuned)\n",
    "# Reduced epochs, added weight decay, kept moderate LR\n",
    "\n",
    "num_epochs = 25\n",
    "learning_rate = 1.5e-4\n",
    "patience = 5                  # Early stopping patience\n",
    "weight_decay = 1e-4           # L2 regularization\n",
    "best_model_path = \"../US3_training_evaluation_pytorch/models/best_model.pth\"\n",
    "\n",
    "\n",
    "#  Loss and optimizer setup\n",
    "# Using Adam for stability + scheduler for smoother convergence\n",
    "\n",
    "criterion = nn.CrossEntropyLoss() \n",
    "optimizer = optim.Adam(model.parameters(), lr=learning_rate, weight_decay=weight_decay)\n",
    "scheduler = optim.lr_scheduler.ReduceLROnPlateau(optimizer, mode='min', patience=2, factor=0.5)\n",
    "\n",
    "#  Metrics & early stopping\n",
    "\n",
    "train_loss_history, val_loss_history, val_acc_history = [], [], []\n",
    "best_val_acc = 0.0\n",
    "epochs_no_improve = 0\n",
    "\n",
    "#  Training loop\n",
    "\n",
    "for epoch in range(num_epochs):\n",
    "    model.train()\n",
    "    running_loss, correct, total = 0.0, 0, 0\n",
    "\n",
    "    for images, labels in tqdm(train_loader, desc=f\"Epoch [{epoch+1}/{num_epochs}] Training\"):\n",
    "        images, labels = images.to(device), labels.to(device)\n",
    "        optimizer.zero_grad()\n",
    "\n",
    "        outputs = model(images)\n",
    "        loss = criterion(outputs, labels)\n",
    "        loss.backward()\n",
    "        optimizer.step()\n",
    "\n",
    "        running_loss += loss.item() * images.size(0)\n",
    "        _, predicted = torch.max(outputs, 1)\n",
    "        total += labels.size(0)\n",
    "        correct += (predicted == labels).sum().item()\n",
    "\n",
    "    train_loss = running_loss / len(train_loader.dataset)\n",
    "    train_acc = 100 * correct / total\n",
    "\n",
    "    #  Validation\n",
    "\n",
    "    model.eval()\n",
    "    val_loss, val_correct, val_total = 0.0, 0, 0\n",
    "\n",
    "    with torch.no_grad():\n",
    "        for images, labels in val_loader:\n",
    "            images, labels = images.to(device), labels.to(device)\n",
    "            outputs = model(images)\n",
    "            loss = criterion(outputs, labels)\n",
    "\n",
    "            val_loss += loss.item() * images.size(0)\n",
    "            _, predicted = torch.max(outputs, 1)\n",
    "            val_total += labels.size(0)\n",
    "            val_correct += (predicted == labels).sum().item()\n",
    "\n",
    "    val_loss /= len(val_loader.dataset)\n",
    "    val_acc = 100 * val_correct / val_total\n",
    "    scheduler.step(val_loss)  \n",
    "\n",
    "    # Store metrics\n",
    "\n",
    "    train_loss_history.append(train_loss)\n",
    "    val_loss_history.append(val_loss)\n",
    "    val_acc_history.append(val_acc)\n",
    "\n",
    "    print(f\"Epoch [{epoch+1}/{num_epochs}] \"\n",
    "          f\"Train Loss: {train_loss:.4f} | Val Loss: {val_loss:.4f} | \"\n",
    "          f\"Val Acc: {val_acc:.2f}%\")\n",
    "\n",
    "    # Early stopping check\n",
    "\n",
    "    if val_acc > best_val_acc:\n",
    "        best_val_acc = val_acc\n",
    "        epochs_no_improve = 0\n",
    "        torch.save(model.state_dict(), best_model_path)\n",
    "        print(f\"Best model updated at epoch {epoch+1}\")\n",
    "    else:\n",
    "        epochs_no_improve += 1\n",
    "        if epochs_no_improve >= patience:\n",
    "            print(f\"\\n Early stopping triggered at epoch {epoch+1}\")\n",
    "            break\n",
    "\n",
    "\n",
    "print(f\"\\nTraining complete! Best validation accuracy: {best_val_acc:.2f}%\")\n",
    "print(f\"Best model saved at: {best_model_path}\")\n"
   ]
  },
  {
   "cell_type": "code",
   "execution_count": 5,
   "id": "f93b9f6e",
   "metadata": {},
   "outputs": [
    {
     "data": {
      "image/png": "[encoded data removed]",
      "text/plain": [
       "<Figure size 1200x500 with 2 Axes>"
      ]
     },
     "metadata": {},
     "output_type": "display_data"
    }
   ],
   "source": [
    "import matplotlib.pyplot as plt\n",
    "\n",
    "plt.figure(figsize=(12,5))\n",
    "\n",
    "# --- Loss curve ---\n",
    "plt.subplot(1,2,1)\n",
    "plt.plot(train_loss_history, label='Train Loss')\n",
    "plt.plot(val_loss_history, label='Val Loss')\n",
    "plt.title('Loss Curve')\n",
    "plt.xlabel('Epoch')\n",
    "plt.ylabel('Loss')\n",
    "plt.legend()\n",
    "\n",
    "# --- Accuracy curve ---\n",
    "plt.subplot(1,2,2)\n",
    "plt.plot(val_acc_history, label='Val Accuracy', color='green')\n",
    "plt.title('Validation Accuracy Curve')\n",
    "plt.xlabel('Epoch')\n",
    "plt.ylabel('Accuracy (%)')\n",
    "plt.legend()\n",
    "\n",
    "plt.show()\n"
   ]
  },
  {
   "cell_type": "code",
   "execution_count": 6,
   "id": "d95aadee",
   "metadata": {},
   "outputs": [
    {
     "name": "stdout",
     "output_type": "stream",
     "text": [
      " Model saved to ../US3_training_evaluation_pytorch/models/best_model.pth\n"
     ]
    }
   ],
   "source": [
    "# --- Save model ---\n",
    "\n",
    "model_save_path = \"../US3_training_evaluation_pytorch/models/best_model.pth\"\n",
    "torch.save(model, model_save_path)\n",
    "print(f\" Model saved to {model_save_path}\")\n",
    "\n",
    "\n"
   ]
  }
 ],
 "metadata": {
  "kernelspec": {
   "display_name": "Python 3",
   "language": "python",
   "name": "python3"
  },
  "language_info": {
   "codemirror_mode": {
    "name": "ipython",
    "version": 3
   },
   "file_extension": ".py",
   "mimetype": "text/x-python",
   "name": "python",
   "nbconvert_exporter": "python",
   "pygments_lexer": "ipython3",
   "version": "3.13.7"
  }
 },
 "nbformat": 4,
 "nbformat_minor": 5
}
