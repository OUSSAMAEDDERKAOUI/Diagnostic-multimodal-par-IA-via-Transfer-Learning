{
 "cells": [
  {
   "cell_type": "markdown",
   "id": "f125fdbb",
   "metadata": {},
   "source": [
    "# Evaluate YOLO\n",
    "\n",
    "Replaces evaluate_yolo.py. Add mAP and visualization notebooks."
   ]
  }
 ],
 "metadata": {
  "language_info": {
   "name": "python"
  }
 },
 "nbformat": 4,
 "nbformat_minor": 5
}
