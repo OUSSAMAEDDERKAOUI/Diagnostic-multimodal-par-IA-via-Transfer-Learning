{
 "cells": [
  {
   "cell_type": "markdown",
   "id": "f2f2cd66",
   "metadata": {},
   "source": [
    "# Test Streamlit Notebook\n",
    "\n",
    "Replaces test_streamlit.py."
   ]
  },
  {
   "cell_type": "code",
   "execution_count": null,
   "id": "3eab2e8a",
   "metadata": {},
   "outputs": [],
   "source": [
    "# Placeholder test\n",
    "def test_streamlit_placeholder():\n",
    "    assert True\n",
    "\n",
    "print('test_streamlit notebook created')"
   ]
  }
 ],
 "metadata": {
  "language_info": {
   "name": "python"
  }
 },
 "nbformat": 4,
 "nbformat_minor": 5
}
