{
 "cells": [
  {
   "cell_type": "markdown",
   "id": "ee7b4cea",
   "metadata": {},
   "source": [
    "# Test Inference (PyTorch)\n",
    "\n",
    "Replaces test_inference.py. Run inference on test images."
   ]
  },
  {
   "cell_type": "code",
   "execution_count": null,
   "id": "089a79f7",
   "metadata": {},
   "outputs": [],
   "source": [
    "# Placeholder inference example\n",
    "def infer():\n",
    "    pass\n",
    "\n",
    "print('test_inference notebook created')"
   ]
  }
 ],
 "metadata": {
  "language_info": {
   "name": "python"
  }
 },
 "nbformat": 4,
 "nbformat_minor": 5
}
