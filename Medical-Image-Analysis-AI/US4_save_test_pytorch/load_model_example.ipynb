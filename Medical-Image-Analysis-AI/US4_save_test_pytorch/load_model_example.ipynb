{
 "cells": [
  {
   "cell_type": "markdown",
   "id": "d9b777f9",
   "metadata": {},
   "source": [
    "# Load Model Example\n",
    "\n",
    "Example notebook showing how to load saved models."
   ]
  }
 ],
 "metadata": {
  "language_info": {
   "name": "python"
  }
 },
 "nbformat": 4,
 "nbformat_minor": 5
}
