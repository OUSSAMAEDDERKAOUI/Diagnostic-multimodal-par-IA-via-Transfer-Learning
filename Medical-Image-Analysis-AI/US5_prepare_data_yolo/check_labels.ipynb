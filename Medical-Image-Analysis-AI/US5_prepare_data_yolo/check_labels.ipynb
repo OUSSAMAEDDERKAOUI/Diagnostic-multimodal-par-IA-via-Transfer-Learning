{
 "cells": [
  {
   "cell_type": "markdown",
   "id": "e53c330d",
   "metadata": {},
   "source": [
    "# Check Labels (YOLO)\n",
    "\n",
    "Replaces check_labels.py. Verify label files and formats."
   ]
  }
 ],
 "metadata": {
  "language_info": {
   "name": "python"
  }
 },
 "nbformat": 4,
 "nbformat_minor": 5
}
