{
 "cells": [
  {
   "cell_type": "markdown",
   "id": "0c182dbc",
   "metadata": {},
   "source": [
    "# Prepare Data for YOLO\n",
    "\n",
    "Replaces prepare_data.py. Convert dataset to YOLO format."
   ]
  },
  {
   "cell_type": "code",
   "execution_count": null,
   "id": "a355c41b",
   "metadata": {},
   "outputs": [],
   "source": [
    "# Placeholder prepare function\n",
    "def prepare():\n",
    "    pass\n",
    "\n",
    "print('prepare_data notebook created')"
   ]
  }
 ],
 "metadata": {
  "language_info": {
   "name": "python"
  }
 },
 "nbformat": 4,
 "nbformat_minor": 5
}
